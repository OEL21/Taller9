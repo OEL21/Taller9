{
 "cells": [
  {
   "cell_type": "markdown",
   "metadata": {},
   "source": [
    "<img src='https://encrypted-tbn0.gstatic.com/images?q=tbn%3AANd9GcQ-VfNtOyJbsaxu43Kztf_cv1mgBG6ZIQZEVw&usqp=CAU'>\n",
    "\n",
    "# Procesamiento de Lenguaje Natural\n",
    "\n",
    "## Taller #9: Modelado de temas\n",
    "`Fecha de entrega: Mayo 6, 2021. (Antes del inicio de la próxima clase).`\n",
    "\n",
    "`Modo de entrega: Subir link de GitHub al aula virtual."
   ]
  },
  {
   "cell_type": "code",
   "execution_count": 3,
   "metadata": {},
   "outputs": [
    {
     "data": {
      "text/html": [
       "<div>\n",
       "<style scoped>\n",
       "    .dataframe tbody tr th:only-of-type {\n",
       "        vertical-align: middle;\n",
       "    }\n",
       "\n",
       "    .dataframe tbody tr th {\n",
       "        vertical-align: top;\n",
       "    }\n",
       "\n",
       "    .dataframe thead th {\n",
       "        text-align: right;\n",
       "    }\n",
       "</style>\n",
       "<table border=\"1\" class=\"dataframe\">\n",
       "  <thead>\n",
       "    <tr style=\"text-align: right;\">\n",
       "      <th></th>\n",
       "      <th>review_id</th>\n",
       "      <th>product_id</th>\n",
       "      <th>reviewer_id</th>\n",
       "      <th>stars</th>\n",
       "      <th>review_body</th>\n",
       "      <th>review_title</th>\n",
       "      <th>language</th>\n",
       "      <th>product_category</th>\n",
       "    </tr>\n",
       "  </thead>\n",
       "  <tbody>\n",
       "    <tr>\n",
       "      <th>0</th>\n",
       "      <td>es_0825565</td>\n",
       "      <td>product_es_0370490</td>\n",
       "      <td>reviewer_es_0174781</td>\n",
       "      <td>3</td>\n",
       "      <td>Buen. Buena calidad, y buena presentación.</td>\n",
       "      <td>Contenta</td>\n",
       "      <td>es</td>\n",
       "      <td>jewelry</td>\n",
       "    </tr>\n",
       "    <tr>\n",
       "      <th>1</th>\n",
       "      <td>es_0227934</td>\n",
       "      <td>product_es_0354224</td>\n",
       "      <td>reviewer_es_0411613</td>\n",
       "      <td>3</td>\n",
       "      <td>Un producto a perfecto, para salir de casa con...</td>\n",
       "      <td>Versatilidad</td>\n",
       "      <td>es</td>\n",
       "      <td>video_games</td>\n",
       "    </tr>\n",
       "    <tr>\n",
       "      <th>2</th>\n",
       "      <td>es_0468601</td>\n",
       "      <td>product_es_0665460</td>\n",
       "      <td>reviewer_es_0348315</td>\n",
       "      <td>1</td>\n",
       "      <td>No funciona con Nintendo Switch. No hay forma ...</td>\n",
       "      <td>Decepción absoluta</td>\n",
       "      <td>es</td>\n",
       "      <td>video_games</td>\n",
       "    </tr>\n",
       "    <tr>\n",
       "      <th>3</th>\n",
       "      <td>es_0814494</td>\n",
       "      <td>product_es_0692692</td>\n",
       "      <td>reviewer_es_0951508</td>\n",
       "      <td>5</td>\n",
       "      <td>Recomendado, los utilizo para pc y no me dan n...</td>\n",
       "      <td>Auriculares Pecham ps4</td>\n",
       "      <td>es</td>\n",
       "      <td>video_games</td>\n",
       "    </tr>\n",
       "    <tr>\n",
       "      <th>4</th>\n",
       "      <td>es_0206329</td>\n",
       "      <td>product_es_0728826</td>\n",
       "      <td>reviewer_es_0493255</td>\n",
       "      <td>4</td>\n",
       "      <td>El cable funciona bien podria ser un poco mas ...</td>\n",
       "      <td>Perfecto</td>\n",
       "      <td>es</td>\n",
       "      <td>video_games</td>\n",
       "    </tr>\n",
       "  </tbody>\n",
       "</table>\n",
       "</div>"
      ],
      "text/plain": [
       "    review_id          product_id          reviewer_id  stars  \\\n",
       "0  es_0825565  product_es_0370490  reviewer_es_0174781      3   \n",
       "1  es_0227934  product_es_0354224  reviewer_es_0411613      3   \n",
       "2  es_0468601  product_es_0665460  reviewer_es_0348315      1   \n",
       "3  es_0814494  product_es_0692692  reviewer_es_0951508      5   \n",
       "4  es_0206329  product_es_0728826  reviewer_es_0493255      4   \n",
       "\n",
       "                                         review_body            review_title  \\\n",
       "0         Buen. Buena calidad, y buena presentación.                Contenta   \n",
       "1  Un producto a perfecto, para salir de casa con...            Versatilidad   \n",
       "2  No funciona con Nintendo Switch. No hay forma ...      Decepción absoluta   \n",
       "3  Recomendado, los utilizo para pc y no me dan n...  Auriculares Pecham ps4   \n",
       "4  El cable funciona bien podria ser un poco mas ...                Perfecto   \n",
       "\n",
       "  language product_category  \n",
       "0       es          jewelry  \n",
       "1       es      video_games  \n",
       "2       es      video_games  \n",
       "3       es      video_games  \n",
       "4       es      video_games  "
      ]
     },
     "execution_count": 3,
     "metadata": {},
     "output_type": "execute_result"
    }
   ],
   "source": [
    "# Cargar datos\n",
    "import pandas as pd\n",
    "\n",
    "data = pd.read_csv(\"reviews_vidjew_es.csv\")\n",
    "data.head()"
   ]
  },
  {
   "cell_type": "code",
   "execution_count": 4,
   "metadata": {},
   "outputs": [],
   "source": [
    "import re \n",
    "\n",
    "from nltk.corpus import stopwords\n",
    "stopwords_sp = stopwords.words('spanish')"
   ]
  },
  {
   "cell_type": "markdown",
   "metadata": {},
   "source": [
    "[12 pts] Punto 1: Hacer pre-procesamiento del texto"
   ]
  },
  {
   "cell_type": "code",
   "execution_count": 7,
   "metadata": {},
   "outputs": [
    {
     "data": {
      "text/html": [
       "<div>\n",
       "<style scoped>\n",
       "    .dataframe tbody tr th:only-of-type {\n",
       "        vertical-align: middle;\n",
       "    }\n",
       "\n",
       "    .dataframe tbody tr th {\n",
       "        vertical-align: top;\n",
       "    }\n",
       "\n",
       "    .dataframe thead th {\n",
       "        text-align: right;\n",
       "    }\n",
       "</style>\n",
       "<table border=\"1\" class=\"dataframe\">\n",
       "  <thead>\n",
       "    <tr style=\"text-align: right;\">\n",
       "      <th></th>\n",
       "      <th>review_id</th>\n",
       "      <th>product_id</th>\n",
       "      <th>reviewer_id</th>\n",
       "      <th>stars</th>\n",
       "      <th>review_body</th>\n",
       "      <th>review_title</th>\n",
       "      <th>language</th>\n",
       "      <th>product_category</th>\n",
       "      <th>Pre-Processed</th>\n",
       "    </tr>\n",
       "  </thead>\n",
       "  <tbody>\n",
       "    <tr>\n",
       "      <th>0</th>\n",
       "      <td>es_0825565</td>\n",
       "      <td>product_es_0370490</td>\n",
       "      <td>reviewer_es_0174781</td>\n",
       "      <td>3</td>\n",
       "      <td>Buen. Buena calidad, y buena presentación.</td>\n",
       "      <td>Contenta</td>\n",
       "      <td>es</td>\n",
       "      <td>jewelry</td>\n",
       "      <td>[buen, buena, calidad, buena, presentación]</td>\n",
       "    </tr>\n",
       "    <tr>\n",
       "      <th>1</th>\n",
       "      <td>es_0227934</td>\n",
       "      <td>product_es_0354224</td>\n",
       "      <td>reviewer_es_0411613</td>\n",
       "      <td>3</td>\n",
       "      <td>Un producto a perfecto, para salir de casa con...</td>\n",
       "      <td>Versatilidad</td>\n",
       "      <td>es</td>\n",
       "      <td>video_games</td>\n",
       "      <td>[producto, perfecto, salir, casa, nintendo, sw...</td>\n",
       "    </tr>\n",
       "    <tr>\n",
       "      <th>2</th>\n",
       "      <td>es_0468601</td>\n",
       "      <td>product_es_0665460</td>\n",
       "      <td>reviewer_es_0348315</td>\n",
       "      <td>1</td>\n",
       "      <td>No funciona con Nintendo Switch. No hay forma ...</td>\n",
       "      <td>Decepción absoluta</td>\n",
       "      <td>es</td>\n",
       "      <td>video_games</td>\n",
       "      <td>[funciona, nintendo, switch, forma, emparejarl...</td>\n",
       "    </tr>\n",
       "    <tr>\n",
       "      <th>3</th>\n",
       "      <td>es_0814494</td>\n",
       "      <td>product_es_0692692</td>\n",
       "      <td>reviewer_es_0951508</td>\n",
       "      <td>5</td>\n",
       "      <td>Recomendado, los utilizo para pc y no me dan n...</td>\n",
       "      <td>Auriculares Pecham ps4</td>\n",
       "      <td>es</td>\n",
       "      <td>video_games</td>\n",
       "      <td>[recomendado, utilizo, pc, dan, ningún, proble...</td>\n",
       "    </tr>\n",
       "    <tr>\n",
       "      <th>4</th>\n",
       "      <td>es_0206329</td>\n",
       "      <td>product_es_0728826</td>\n",
       "      <td>reviewer_es_0493255</td>\n",
       "      <td>4</td>\n",
       "      <td>El cable funciona bien podria ser un poco mas ...</td>\n",
       "      <td>Perfecto</td>\n",
       "      <td>es</td>\n",
       "      <td>video_games</td>\n",
       "      <td>[cable, funciona, bien, podria, ser, mas, larg...</td>\n",
       "    </tr>\n",
       "  </tbody>\n",
       "</table>\n",
       "</div>"
      ],
      "text/plain": [
       "    review_id          product_id          reviewer_id  stars  \\\n",
       "0  es_0825565  product_es_0370490  reviewer_es_0174781      3   \n",
       "1  es_0227934  product_es_0354224  reviewer_es_0411613      3   \n",
       "2  es_0468601  product_es_0665460  reviewer_es_0348315      1   \n",
       "3  es_0814494  product_es_0692692  reviewer_es_0951508      5   \n",
       "4  es_0206329  product_es_0728826  reviewer_es_0493255      4   \n",
       "\n",
       "                                         review_body            review_title  \\\n",
       "0         Buen. Buena calidad, y buena presentación.                Contenta   \n",
       "1  Un producto a perfecto, para salir de casa con...            Versatilidad   \n",
       "2  No funciona con Nintendo Switch. No hay forma ...      Decepción absoluta   \n",
       "3  Recomendado, los utilizo para pc y no me dan n...  Auriculares Pecham ps4   \n",
       "4  El cable funciona bien podria ser un poco mas ...                Perfecto   \n",
       "\n",
       "  language product_category                                      Pre-Processed  \n",
       "0       es          jewelry        [buen, buena, calidad, buena, presentación]  \n",
       "1       es      video_games  [producto, perfecto, salir, casa, nintendo, sw...  \n",
       "2       es      video_games  [funciona, nintendo, switch, forma, emparejarl...  \n",
       "3       es      video_games  [recomendado, utilizo, pc, dan, ningún, proble...  \n",
       "4       es      video_games  [cable, funciona, bien, podria, ser, mas, larg...  "
      ]
     },
     "execution_count": 7,
     "metadata": {},
     "output_type": "execute_result"
    }
   ],
   "source": [
    "def pre_procesado(texto):\n",
    "    texto = texto.lower()\n",
    "    texto = re.sub(r\"[\\W\\d_]+\", \" \", texto)\n",
    "    texto = texto.split() # Tokenizar\n",
    "    texto = [palabra for palabra in texto if palabra not in stopwords_sp]\n",
    "    return texto\n",
    "\n",
    "data['Pre-Processed'] = data['review_body'].apply(lambda texto: pre_procesado(texto))\n",
    "\n",
    "data.head()"
   ]
  },
  {
   "cell_type": "markdown",
   "metadata": {},
   "source": [
    "[10 pts] Punto 2: Modelo de LDA"
   ]
  },
  {
   "cell_type": "code",
   "execution_count": 9,
   "metadata": {},
   "outputs": [
    {
     "name": "stdout",
     "output_type": "stream",
     "text": [
      "Requirement already satisfied: pyLDAvis in c:\\users\\57314\\anaconda3\\lib\\site-packages (3.3.1)\n",
      "Requirement already satisfied: joblib in c:\\users\\57314\\anaconda3\\lib\\site-packages (from pyLDAvis) (0.16.0)\n",
      "Requirement already satisfied: scipy in c:\\users\\57314\\anaconda3\\lib\\site-packages (from pyLDAvis) (1.5.0)\n",
      "Requirement already satisfied: pandas>=1.2.0 in c:\\users\\57314\\anaconda3\\lib\\site-packages (from pyLDAvis) (1.2.4)\n",
      "Requirement already satisfied: numexpr in c:\\users\\57314\\anaconda3\\lib\\site-packages (from pyLDAvis) (2.7.1)\n",
      "Requirement already satisfied: funcy in c:\\users\\57314\\anaconda3\\lib\\site-packages (from pyLDAvis) (1.15)\n",
      "Requirement already satisfied: numpy>=1.20.0 in c:\\users\\57314\\anaconda3\\lib\\site-packages (from pyLDAvis) (1.20.2)\n",
      "Requirement already satisfied: setuptools in c:\\users\\57314\\anaconda3\\lib\\site-packages (from pyLDAvis) (49.2.0.post20200714)\n",
      "Requirement already satisfied: scikit-learn in c:\\users\\57314\\anaconda3\\lib\\site-packages (from pyLDAvis) (0.24.1)\n",
      "Requirement already satisfied: gensim in c:\\users\\57314\\anaconda3\\lib\\site-packages (from pyLDAvis) (4.0.1)\n",
      "Requirement already satisfied: jinja2 in c:\\users\\57314\\anaconda3\\lib\\site-packages (from pyLDAvis) (2.11.2)\n",
      "Requirement already satisfied: future in c:\\users\\57314\\anaconda3\\lib\\site-packages (from pyLDAvis) (0.18.2)\n",
      "Requirement already satisfied: sklearn in c:\\users\\57314\\anaconda3\\lib\\site-packages (from pyLDAvis) (0.0)\n",
      "Requirement already satisfied: python-dateutil>=2.7.3 in c:\\users\\57314\\anaconda3\\lib\\site-packages (from pandas>=1.2.0->pyLDAvis) (2.8.1)\n",
      "Requirement already satisfied: pytz>=2017.3 in c:\\users\\57314\\anaconda3\\lib\\site-packages (from pandas>=1.2.0->pyLDAvis) (2020.1)\n",
      "Requirement already satisfied: threadpoolctl>=2.0.0 in c:\\users\\57314\\anaconda3\\lib\\site-packages (from scikit-learn->pyLDAvis) (2.1.0)\n",
      "Requirement already satisfied: smart-open>=1.8.1 in c:\\users\\57314\\anaconda3\\lib\\site-packages (from gensim->pyLDAvis) (3.0.0)\n",
      "Requirement already satisfied: Cython==0.29.21 in c:\\users\\57314\\anaconda3\\lib\\site-packages (from gensim->pyLDAvis) (0.29.21)\n",
      "Requirement already satisfied: MarkupSafe>=0.23 in c:\\users\\57314\\anaconda3\\lib\\site-packages (from jinja2->pyLDAvis) (1.1.1)\n",
      "Requirement already satisfied: six>=1.5 in c:\\users\\57314\\anaconda3\\lib\\site-packages (from python-dateutil>=2.7.3->pandas>=1.2.0->pyLDAvis) (1.15.0)\n",
      "Requirement already satisfied: requests in c:\\users\\57314\\anaconda3\\lib\\site-packages (from smart-open>=1.8.1->gensim->pyLDAvis) (2.24.0)\n",
      "Requirement already satisfied: idna<3,>=2.5 in c:\\users\\57314\\anaconda3\\lib\\site-packages (from requests->smart-open>=1.8.1->gensim->pyLDAvis) (2.10)\n",
      "Requirement already satisfied: certifi>=2017.4.17 in c:\\users\\57314\\anaconda3\\lib\\site-packages (from requests->smart-open>=1.8.1->gensim->pyLDAvis) (2020.6.20)\n",
      "Requirement already satisfied: urllib3!=1.25.0,!=1.25.1,<1.26,>=1.21.1 in c:\\users\\57314\\anaconda3\\lib\\site-packages (from requests->smart-open>=1.8.1->gensim->pyLDAvis) (1.25.9)\n",
      "Requirement already satisfied: chardet<4,>=3.0.2 in c:\\users\\57314\\anaconda3\\lib\\site-packages (from requests->smart-open>=1.8.1->gensim->pyLDAvis) (3.0.4)\n",
      "Requirement already up-to-date: pyLDAvis in c:\\users\\57314\\anaconda3\\lib\\site-packages (3.3.1)\n",
      "Requirement already satisfied, skipping upgrade: scipy in c:\\users\\57314\\anaconda3\\lib\\site-packages (from pyLDAvis) (1.5.0)\n",
      "Requirement already satisfied, skipping upgrade: pandas>=1.2.0 in c:\\users\\57314\\anaconda3\\lib\\site-packages (from pyLDAvis) (1.2.4)\n",
      "Requirement already satisfied, skipping upgrade: numexpr in c:\\users\\57314\\anaconda3\\lib\\site-packages (from pyLDAvis) (2.7.1)\n",
      "Requirement already satisfied, skipping upgrade: joblib in c:\\users\\57314\\anaconda3\\lib\\site-packages (from pyLDAvis) (0.16.0)\n",
      "Requirement already satisfied, skipping upgrade: future in c:\\users\\57314\\anaconda3\\lib\\site-packages (from pyLDAvis) (0.18.2)\n",
      "Requirement already satisfied, skipping upgrade: setuptools in c:\\users\\57314\\anaconda3\\lib\\site-packages (from pyLDAvis) (49.2.0.post20200714)\n",
      "Requirement already satisfied, skipping upgrade: sklearn in c:\\users\\57314\\anaconda3\\lib\\site-packages (from pyLDAvis) (0.0)\n",
      "Requirement already satisfied, skipping upgrade: jinja2 in c:\\users\\57314\\anaconda3\\lib\\site-packages (from pyLDAvis) (2.11.2)\n",
      "Requirement already satisfied, skipping upgrade: funcy in c:\\users\\57314\\anaconda3\\lib\\site-packages (from pyLDAvis) (1.15)\n",
      "Requirement already satisfied, skipping upgrade: scikit-learn in c:\\users\\57314\\anaconda3\\lib\\site-packages (from pyLDAvis) (0.24.1)\n",
      "Requirement already satisfied, skipping upgrade: numpy>=1.20.0 in c:\\users\\57314\\anaconda3\\lib\\site-packages (from pyLDAvis) (1.20.2)\n",
      "Requirement already satisfied, skipping upgrade: gensim in c:\\users\\57314\\anaconda3\\lib\\site-packages (from pyLDAvis) (4.0.1)\n",
      "Requirement already satisfied, skipping upgrade: python-dateutil>=2.7.3 in c:\\users\\57314\\anaconda3\\lib\\site-packages (from pandas>=1.2.0->pyLDAvis) (2.8.1)\n",
      "Requirement already satisfied, skipping upgrade: pytz>=2017.3 in c:\\users\\57314\\anaconda3\\lib\\site-packages (from pandas>=1.2.0->pyLDAvis) (2020.1)\n",
      "Requirement already satisfied, skipping upgrade: MarkupSafe>=0.23 in c:\\users\\57314\\anaconda3\\lib\\site-packages (from jinja2->pyLDAvis) (1.1.1)\n",
      "Requirement already satisfied, skipping upgrade: threadpoolctl>=2.0.0 in c:\\users\\57314\\anaconda3\\lib\\site-packages (from scikit-learn->pyLDAvis) (2.1.0)\n",
      "Requirement already satisfied, skipping upgrade: Cython==0.29.21 in c:\\users\\57314\\anaconda3\\lib\\site-packages (from gensim->pyLDAvis) (0.29.21)\n",
      "Requirement already satisfied, skipping upgrade: smart-open>=1.8.1 in c:\\users\\57314\\anaconda3\\lib\\site-packages (from gensim->pyLDAvis) (3.0.0)\n",
      "Requirement already satisfied, skipping upgrade: six>=1.5 in c:\\users\\57314\\anaconda3\\lib\\site-packages (from python-dateutil>=2.7.3->pandas>=1.2.0->pyLDAvis) (1.15.0)\n",
      "Requirement already satisfied, skipping upgrade: requests in c:\\users\\57314\\anaconda3\\lib\\site-packages (from smart-open>=1.8.1->gensim->pyLDAvis) (2.24.0)\n",
      "Requirement already satisfied, skipping upgrade: chardet<4,>=3.0.2 in c:\\users\\57314\\anaconda3\\lib\\site-packages (from requests->smart-open>=1.8.1->gensim->pyLDAvis) (3.0.4)\n",
      "Requirement already satisfied, skipping upgrade: urllib3!=1.25.0,!=1.25.1,<1.26,>=1.21.1 in c:\\users\\57314\\anaconda3\\lib\\site-packages (from requests->smart-open>=1.8.1->gensim->pyLDAvis) (1.25.9)\n",
      "Requirement already satisfied, skipping upgrade: idna<3,>=2.5 in c:\\users\\57314\\anaconda3\\lib\\site-packages (from requests->smart-open>=1.8.1->gensim->pyLDAvis) (2.10)\n",
      "Requirement already satisfied, skipping upgrade: certifi>=2017.4.17 in c:\\users\\57314\\anaconda3\\lib\\site-packages (from requests->smart-open>=1.8.1->gensim->pyLDAvis) (2020.6.20)\n"
     ]
    }
   ],
   "source": [
    "! pip install pyLDAvis\n",
    "! pip install pyLDAvis --upgrade"
   ]
  },
  {
   "cell_type": "code",
   "execution_count": 11,
   "metadata": {},
   "outputs": [],
   "source": [
    "import pyLDAvis.gensim_models\n",
    "from gensim.models import LdaModel \n",
    "from gensim.corpora import Dictionary\n",
    "from pprint import pprint"
   ]
  },
  {
   "cell_type": "code",
   "execution_count": 24,
   "metadata": {},
   "outputs": [],
   "source": [
    "# Crear una represantación de los documentos en forma de diccionario\n",
    "dictionary = Dictionary(data['Pre-Processed'].values)\n",
    "\n",
    "# Filtrar palabras muy frecuentes o infrecuentes\n",
    "dictionary.filter_extremes(no_below=5, no_above=0.5) \n",
    "\n",
    "# Corpus\n",
    "corpus = [dictionary.doc2bow(text) for text in data['Pre-Processed'].values]\n",
    "\n",
    "# Entrenar el modelo\n",
    "model = LdaModel(corpus = corpus, id2word = dictionary, num_topics = 5, passes=500)"
   ]
  },
  {
   "cell_type": "code",
   "execution_count": 25,
   "metadata": {},
   "outputs": [
    {
     "data": {
      "text/plain": [
       "[(0,\n",
       "  '0.046*\"calidad\" + 0.036*\"precio\" + 0.033*\"buena\" + 0.024*\"foto\" + 0.022*\"juego\" + 0.020*\"regalo\" + 0.018*\"pulsera\" + 0.016*\"bastante\" + 0.015*\"bonita\"'),\n",
       " (1,\n",
       "  '0.041*\"si\" + 0.028*\"producto\" + 0.027*\"mando\" + 0.024*\"puede\" + 0.021*\"mas\" + 0.020*\"mejor\" + 0.017*\"bien\" + 0.017*\"ps\" + 0.015*\"calidad\"'),\n",
       " (2,\n",
       "  '0.034*\"amazon\" + 0.030*\"perfecto\" + 0.022*\"comprar\" + 0.022*\"día\" + 0.020*\"después\" + 0.019*\"producto\" + 0.018*\"envío\" + 0.018*\"rápido\" + 0.017*\"tiempo\"'),\n",
       " (3,\n",
       "  '0.044*\"bien\" + 0.035*\"llegado\" + 0.027*\"juego\" + 0.024*\"buen\" + 0.019*\"llegó\" + 0.019*\"producto\" + 0.018*\"día\" + 0.017*\"funciona\" + 0.014*\"precio\"'),\n",
       " (4,\n",
       "  '0.041*\"bien\" + 0.027*\"bonito\" + 0.023*\"calidad\" + 0.016*\"dos\" + 0.016*\"si\" + 0.015*\"tamaño\" + 0.015*\"cadena\" + 0.014*\"plata\" + 0.014*\"colgante\"')]"
      ]
     },
     "execution_count": 25,
     "metadata": {},
     "output_type": "execute_result"
    }
   ],
   "source": [
    "model.print_topics(num_words=9)"
   ]
  },
  {
   "cell_type": "markdown",
   "metadata": {},
   "source": [
    "[25 pts] Punto 3: Visualización de LDA"
   ]
  },
  {
   "cell_type": "code",
   "execution_count": 26,
   "metadata": {},
   "outputs": [
    {
     "data": {
      "text/html": [
       "\n",
       "<link rel=\"stylesheet\" type=\"text/css\" href=\"https://cdn.jsdelivr.net/gh/bmabey/pyLDAvis@3.3.1/pyLDAvis/js/ldavis.v1.0.0.css\">\n",
       "\n",
       "\n",
       "<div id=\"ldavis_el1508812933563656326161342468\"></div>\n",
       "<script type=\"text/javascript\">\n",
       "\n",
       "var ldavis_el1508812933563656326161342468_data = {\"mdsDat\": {\"x\": [0.1124196898754439, 0.18767728899951844, -0.11464443026494057, 0.029038345504059503, -0.21449089411408115], \"y\": [-0.010992011050781979, 0.0016399356382193928, -0.22010368851478554, 0.10228935890079859, 0.12716640502654963], \"topics\": [1, 2, 3, 4, 5], \"cluster\": [1, 1, 1, 1, 1], \"Freq\": [23.447756562567356, 22.574923618055596, 21.95623272608782, 18.55115419222454, 13.469932901064684]}, \"tinfo\": {\"Term\": [\"llegado\", \"si\", \"amazon\", \"calidad\", \"buena\", \"perfecto\", \"bonito\", \"bien\", \"d\\u00eda\", \"mando\", \"mejor\", \"comprar\", \"producto\", \"puede\", \"ps\", \"foto\", \"buen\", \"precio\", \"despu\\u00e9s\", \"env\\u00edo\", \"pulsera\", \"bonita\", \"lleg\\u00f3\", \"funciona\", \"r\\u00e1pido\", \"cumple\", \"colgante\", \"caja\", \"menos\", \"esperaba\", \"colgante\", \"color\", \"collar\", \"casi\", \"pc\", \"sirve\", \"pone\", \"hija\", \"brillo\", \"c\\u00f3modos\", \"elegantes\", \"negro\", \"dedo\", \"espa\\u00f1ol\", \"dorado\", \"corta\", \"detalle\", \"rosa\", \"merece\", \"fea\", \"piel\", \"super\", \"igualmente\", \"quedan\", \"vienen\", \"vino\", \"materiales\", \"cadena\", \"sitio\", \"hijo\", \"tama\\u00f1o\", \"d\\u00edas\", \"bonito\", \"grandes\", \"dos\", \"plata\", \"pendientes\", \"parte\", \"uso\", \"queda\", \"mujer\", \"as\\u00ed\", \"bien\", \"encantado\", \"puedes\", \"calidad\", \"viene\", \"bonitos\", \"grande\", \"si\", \"demasiado\", \"juego\", \"peque\\u00f1o\", \"solo\", \"bastante\", \"bonita\", \"gusto\", \"xbox\", \"deja\", \"\\u00fanico\", \"pandora\", \"horas\", \"preciosa\", \"relaci\\u00f3n\", \"visto\", \"entretenido\", \"realidad\", \"gr\\u00e1ficos\", \"precioso\", \"piedras\", \"ven\", \"fan\", \"one\", \"desear\", \"peor\", \"valen\", \"apenas\", \"buena\", \"junto\", \"quiz\\u00e1\", \"conjunto\", \"media\", \"interesante\", \"consolas\", \"saga\", \"pulsera\", \"foto\", \"compr\\u00e9\", \"pasa\", \"encantada\", \"calidad\", \"precio\", \"verdad\", \"regalo\", \"aspecto\", \"ver\", \"bastante\", \"a\\u00fan\", \"gustado\", \"esperaba\", \"juego\", \"pena\", \"aunque\", \"parece\", \"ser\", \"sonido\", \"compra\", \"tal\", \"buen\", \"tan\", \"vez\", \"mal\", \"bien\", \"bonito\", \"queda\", \"perfectamente\", \"grande\", \"mas\", \"ps\", \"cumple\", \"pedir\", \"q\", \"tampoco\", \"mejor\", \"expectativas\", \"menos\", \"cambiar\", \"switch\", \"pantalla\", \"utilizar\", \"encajan\", \"condiciones\", \"venia\", \"asi\", \"todas\", \"ajustar\", \"cerrar\", \"m\\u00f3viles\", \"usar\", \"pueden\", \"juegazo\", \"lamentable\", \"mando\", \"nintendo\", \"poder\", \"lado\", \"pro\", \"principio\", \"puede\", \"tener\", \"juegos\", \"original\", \"si\", \"art\\u00edculo\", \"consola\", \"imagen\", \"mas\", \"jugar\", \"producto\", \"puedo\", \"caja\", \"caso\", \"solo\", \"decir\", \"va\", \"mal\", \"bien\", \"calidad\", \"precio\", \"llegado\", \"todav\\u00eda\", \"rat\\u00f3n\", \"normal\", \"castellano\", \"completo\", \"llegaron\", \"divertido\", \"familia\", \"largo\", \"simplemente\", \"opinar\", \"entrega\", \"ven\\u00eda\", \"hoy\", \"transporte\", \"pedido\", \"pasado\", \"llegar\", \"ayuda\", \"imposible\", \"pronto\", \"doy\", \"seguro\", \"marca\", \"funciona\", \"ir\", \"rapido\", \"italiano\", \"\\u00fanica\", \"genial\", \"lleg\\u00f3\", \"buen\", \"d\\u00eda\", \"totalmente\", \"bien\", \"cosa\", \"juego\", \"esperaba\", \"aunque\", \"peque\\u00f1os\", \"dem\\u00e1s\", \"producto\", \"bonitos\", \"perfecto\", \"recomiendo\", \"precio\", \"compra\", \"ser\", \"perfectamente\", \"jugar\", \"regalo\", \"bastante\", \"caja\", \"tiempo\", \"amazon\", \"devolver\", \"cosas\", \"esperando\", \"ajusta\", \"funcionar\", \"semanas\", \"hola\", \"tipo\", \"comprar\", \"dinero\", \"c\\u00f3digo\", \"puesta\", \"entra\", \"r\\u00e1pido\", \"env\\u00edo\", \"siempre\", \"voy\", \"devoluci\\u00f3n\", \"dice\", \"compras\", \"semana\", \"funci\\u00f3n\", \"entregado\", \"volver\\u00eda\", \"despu\\u00e9s\", \"llega\", \"baratos\", \"fecha\", \"gente\", \"veces\", \"devuelto\", \"vendedor\", \"gracias\", \"perfecto\", \"meses\", \"d\\u00eda\", \"roto\", \"tiempo\", \"llego\", \"nunca\", \"producto\", \"vale\", \"caja\", \"si\", \"juego\", \"solo\", \"sido\"], \"Freq\": [50.0, 113.0, 35.0, 143.0, 65.0, 59.0, 63.0, 184.0, 49.0, 52.0, 35.0, 25.0, 105.0, 50.0, 29.0, 52.0, 60.0, 115.0, 27.0, 21.0, 37.0, 26.0, 43.0, 34.0, 20.0, 24.0, 25.0, 47.0, 24.0, 34.0, 24.363561484012084, 20.64113394558102, 15.057900071547618, 13.190311164619866, 9.478198390744966, 8.548216705991917, 18.652499239418653, 7.617044951455931, 6.694718555869114, 6.694248726236058, 6.692839237336888, 6.691430988093743, 6.691398343818447, 15.763299059512928, 5.76372903076864, 5.763708369834908, 5.763492669686751, 5.762086486536978, 5.757817111190682, 4.833559331518635, 4.833120906504851, 4.830484984579374, 4.820964426315855, 18.682700565910146, 10.059140046097896, 7.410677760283319, 6.690852481949259, 25.85654700145229, 8.135905459569516, 12.469733001860625, 26.6784703499144, 16.639970576614367, 47.362169124731906, 18.687505472658767, 29.093959946971516, 25.724844292598917, 20.441048504700163, 21.076973863336963, 16.418384541655062, 22.460003544332324, 9.491812293199388, 24.222645651589115, 73.15355649981885, 10.236291024099335, 10.208039263314754, 40.38729574539851, 17.787468918818945, 17.73275711342298, 14.930886568213964, 29.060052875405923, 14.457022268018395, 22.247835589405227, 13.497781395352012, 14.274472174814216, 14.191737531779419, 25.30307338266163, 19.720369858566247, 11.348217823588545, 10.415613613125766, 9.462965589909258, 8.55946314005414, 8.556819116800572, 8.55451086779106, 7.62811848084336, 7.622060222326157, 6.696560581117398, 6.6961746794387995, 6.695938364390257, 6.6888345908098, 5.76755719136904, 5.7675265579368205, 5.767254835414674, 5.766445635399965, 5.766034272167315, 5.765571190152998, 5.762748538184285, 5.762255220574531, 56.680321936503816, 4.835340473931986, 4.834183962406538, 4.833643302219719, 4.831118630000769, 4.8261898301078325, 4.819187107070019, 9.433438143944793, 29.957851256851253, 40.3997077754688, 20.846072903610867, 8.48393780534794, 7.633992938767253, 78.36404336743547, 61.65473938621855, 16.181914038100278, 33.495756471210846, 9.940590925631628, 10.776738812610489, 26.660704132217113, 10.417518455638268, 18.020739514986772, 17.846125768646548, 37.924781067747176, 16.359931675947806, 20.00775441914909, 21.35994117017887, 16.61588713074794, 9.832463662309209, 14.521308300146599, 13.09463536408536, 16.830189074466432, 11.655560264180194, 11.936047130635687, 13.20588246345269, 21.082731683133982, 15.325336436689092, 12.322656163032024, 11.82146695470826, 11.263773783902135, 11.38758297749978, 28.478091744528218, 23.760886444977732, 19.986034767084583, 15.27702317392482, 12.439074770682032, 33.71278361858639, 11.50061679673634, 22.57584341206537, 8.668377986027622, 18.9426775403362, 7.728934879078966, 7.727935042598346, 6.78656887554571, 6.786426483972618, 6.7861339621539845, 6.782388444687883, 16.096118316257602, 5.839738044942066, 5.8396389899346985, 5.8339530003516025, 5.826712698406799, 13.307885466439355, 4.898875278532343, 4.896764168687813, 44.796908933366396, 13.85472637328675, 7.635991101345241, 6.786232243294108, 6.762087585248162, 7.38398974553038, 39.093699256333586, 14.647955776820568, 17.92269265212319, 23.562096974800603, 68.59952384793237, 13.390146006854994, 15.037898195200551, 10.270309494793036, 35.02371473172202, 20.357374964627756, 47.034447017456834, 14.372387841791824, 23.587284805892892, 11.17611259259883, 21.178319649676236, 12.640392465148778, 13.670736340304193, 16.240209301819235, 29.081423412530675, 24.478567832579582, 21.38817077825429, 49.69237321266562, 11.394144438592186, 8.591901390068877, 8.588567397813524, 7.656717543220969, 5.79038346361091, 5.789415762387549, 5.788933219480223, 4.8564223203357635, 4.853361965216883, 4.852536149916136, 4.852273301340601, 18.78274597313292, 10.953406877968694, 8.015835390323515, 5.79095035344919, 18.64841727399113, 5.663345216253231, 12.087816214176163, 5.477696313516559, 4.747569009751146, 6.681146555045632, 4.6415694369971785, 6.578620571987007, 5.921541633541834, 23.68484313735917, 3.837893897921486, 7.596856068625565, 5.675359096170829, 3.7814932629039553, 5.6360717342067055, 27.37172725937508, 33.63115615980152, 24.997715540867674, 7.224327059501149, 61.3328041511251, 9.675917685069793, 38.35566445708866, 16.080636462549126, 17.456889373074745, 10.991307419463391, 9.800306523402432, 26.82059264317484, 14.738145863083977, 17.5387163577361, 10.825514045814437, 19.636200913146162, 11.5662187162625, 11.851115187237568, 11.191679111690895, 10.79360736723498, 12.720398580774553, 11.844860437303327, 11.006577483227167, 9.799613440093808, 34.676287952490256, 10.725957110787999, 9.765489254256249, 8.811165740946764, 7.845972123911659, 6.894599718427054, 5.936141045987147, 5.932371926775158, 5.924220773260782, 22.55677366907101, 11.678634156604453, 4.9805484993417695, 4.978477121696989, 4.968006765845976, 17.895367825928226, 18.634474109997225, 13.902669912528694, 6.686030077951684, 7.433422347359747, 8.744750622568693, 4.9856108646469, 7.830308369010395, 4.975724463529574, 11.200812958384594, 5.587709024434187, 20.1522835566787, 12.484260955759552, 4.0082225636365925, 5.140433881145598, 3.8235134085316873, 8.188604477963214, 6.950309949540744, 12.397544152566889, 13.1221968448372, 31.042484820335556, 10.973251970545833, 22.18982600962064, 10.975226022401664, 17.184636994316982, 14.851909696335474, 10.89181354843377, 19.327665410160208, 9.113689425232955, 12.260774357778114, 14.963163992581723, 14.589564946286666, 10.339831048555478, 8.57937369246847], \"Total\": [50.0, 113.0, 35.0, 143.0, 65.0, 59.0, 63.0, 184.0, 49.0, 52.0, 35.0, 25.0, 105.0, 50.0, 29.0, 52.0, 60.0, 115.0, 27.0, 21.0, 37.0, 26.0, 43.0, 34.0, 20.0, 24.0, 25.0, 47.0, 24.0, 34.0, 25.120564437322166, 21.400224405140825, 15.819829444071564, 13.959556949495411, 10.23937325366855, 9.309350758463918, 20.4746610259766, 8.379214985799075, 7.449367452476391, 7.449370923664835, 7.449332715683688, 7.449277524524815, 7.449307342143275, 17.68034510169378, 6.5192511283037025, 6.519286926310762, 6.519218318414503, 6.519128282254939, 6.519086185242319, 5.589236927929153, 5.589132605357149, 5.589130379584721, 5.588873761139281, 22.417108711954235, 12.117549427279943, 9.30983386496411, 8.406728175489784, 32.64517821737566, 10.279705361639618, 15.856142685511543, 34.512997286649814, 21.44852652327653, 63.259834888254964, 24.192428222233584, 39.28344335964654, 34.424580864105636, 28.874497113281244, 30.79019784976828, 23.287151380520662, 35.35648931292631, 12.107408696598714, 40.12052945220164, 184.84504743278185, 13.996086459776517, 14.00199145939171, 143.61274619780042, 38.38773768517911, 39.138360078761224, 29.78879647015696, 113.00388993567078, 28.865364308950106, 116.92385866384419, 29.875717303920716, 46.17156077192897, 53.08558918317232, 26.061785319323597, 20.47889753145137, 12.104664532211201, 11.174095103894409, 10.243289385833503, 9.313268475086675, 9.313199532834753, 9.313054305538673, 8.38278573657645, 8.382704421165087, 7.452235987805619, 7.452204666764597, 7.4522192031401335, 7.4519321700226335, 6.521809677512878, 6.521805223095116, 6.521826843199286, 6.521798269325487, 6.521789275023196, 6.521839443442837, 6.521651699514068, 6.521656074050008, 65.26612038439144, 5.591316310290953, 5.59123015930291, 5.591241821741111, 5.591239485518802, 5.5909938723823505, 5.591207929855207, 11.177819058841225, 37.31654316949733, 52.22155584012905, 27.077723394110627, 10.247414255341859, 9.31661628897812, 143.61274619780042, 115.74614675065341, 23.334828493066002, 61.533096598516785, 13.104163898208817, 14.941929937723701, 53.08558918317232, 14.894099045367287, 32.60377428413555, 34.499254075738506, 116.92385866384419, 30.8418237447886, 42.876720836497576, 48.51383118633512, 36.49973685841323, 14.004445147309715, 33.64511556161935, 29.83641074037882, 60.6181890365769, 23.418932287183996, 26.07489403487668, 36.511011178617856, 184.84504743278185, 63.259834888254964, 35.35648931292631, 37.424274259946586, 29.78879647015696, 64.84934740182585, 29.235858684380013, 24.519681955127226, 20.74668822077689, 16.030724309979504, 13.20055707887399, 35.85990295077646, 12.25758501964961, 24.50817800068947, 9.427845874198628, 20.763159381865137, 8.48465577538845, 8.484627266598133, 7.541436106544939, 7.541436399659902, 7.54139802028752, 7.541360119486605, 17.933524054748453, 6.598113671346586, 6.598159867534291, 6.597827418650588, 6.597465214811684, 15.073239315652444, 5.65489436327927, 5.654938800436341, 52.8182445135386, 17.0109620252161, 9.444029025290058, 8.471139256010709, 8.471319254635635, 9.410245487058463, 50.806609705543906, 18.914577048479586, 23.62210466646691, 32.0933420282181, 113.00388993567078, 17.865867319372942, 20.677420424965057, 13.179656765298171, 64.84934740182585, 33.88275112285689, 105.50757527096978, 21.627011978119945, 47.23935714928227, 15.99105569891034, 46.17156077192897, 19.716639008299143, 22.589400721604424, 36.511011178617856, 184.84504743278185, 143.61274619780042, 115.74614675065341, 50.45157522907726, 12.149355013095098, 9.346786737594092, 9.346642674542569, 8.412529247744274, 6.544175489133307, 6.544153855196507, 6.5441341519680725, 5.609956525778642, 5.609828819536621, 5.609808034426583, 5.6098745475416845, 23.396461712153535, 14.007223298225275, 10.274718577526661, 7.474345198186736, 24.4187882823247, 7.473391367271299, 15.963814500669862, 7.47241603566812, 6.5685414737515995, 9.338084177800038, 6.539217013218715, 9.33782074093257, 8.42892942050417, 34.52949512787728, 5.6192225809064755, 11.242518776344765, 8.403458904123573, 5.6049995960670795, 8.40418054434054, 43.24314666129827, 60.6181890365769, 49.12578685534361, 11.201793576130731, 184.84504743278185, 16.79466772647132, 116.92385866384419, 34.499254075738506, 42.876720836497576, 21.447973242426052, 17.780529365161364, 105.50757527096978, 39.138360078761224, 59.5817294748484, 27.95967071315929, 115.74614675065341, 33.64511556161935, 36.49973685841323, 37.424274259946586, 33.88275112285689, 61.533096598516785, 53.08558918317232, 47.23935714928227, 42.5065889623521, 35.429803033502864, 11.477735591911838, 10.519498949724053, 9.561675211281484, 8.603073830959328, 7.645451607052465, 6.687299758513923, 6.687087297572657, 6.686783665570259, 25.809415411195122, 13.365942994707401, 5.72943109312944, 5.729224051597567, 5.72876230474233, 20.988701866907967, 21.950891134754162, 17.152010641326747, 8.574158209333547, 9.53999690506533, 11.419512102567344, 6.659720038411926, 10.462670190663637, 6.6586280207781305, 15.22632177823536, 7.624640512137464, 27.58580001490332, 17.132649961933325, 5.7133316007123325, 7.6016145264812405, 5.695730493593935, 12.333287458421374, 10.45207120796998, 19.992321008281472, 21.837451486065795, 59.5817294748484, 17.995217663316232, 49.12578685534361, 19.945693194024997, 42.5065889623521, 34.080677274029554, 20.872556592972096, 105.50757527096978, 19.805343359383507, 47.23935714928227, 113.00388993567078, 116.92385866384419, 46.17156077192897, 27.387629294938705], \"Category\": [\"Default\", \"Default\", \"Default\", \"Default\", \"Default\", \"Default\", \"Default\", \"Default\", \"Default\", \"Default\", \"Default\", \"Default\", \"Default\", \"Default\", \"Default\", \"Default\", \"Default\", \"Default\", \"Default\", \"Default\", \"Default\", \"Default\", \"Default\", \"Default\", \"Default\", \"Default\", \"Default\", \"Default\", \"Default\", \"Default\", \"Topic1\", \"Topic1\", \"Topic1\", \"Topic1\", \"Topic1\", \"Topic1\", \"Topic1\", \"Topic1\", \"Topic1\", \"Topic1\", \"Topic1\", \"Topic1\", \"Topic1\", \"Topic1\", \"Topic1\", \"Topic1\", \"Topic1\", \"Topic1\", \"Topic1\", \"Topic1\", \"Topic1\", \"Topic1\", \"Topic1\", \"Topic1\", \"Topic1\", \"Topic1\", \"Topic1\", \"Topic1\", \"Topic1\", \"Topic1\", \"Topic1\", \"Topic1\", \"Topic1\", \"Topic1\", \"Topic1\", \"Topic1\", \"Topic1\", \"Topic1\", \"Topic1\", \"Topic1\", \"Topic1\", \"Topic1\", \"Topic1\", \"Topic1\", \"Topic1\", \"Topic1\", \"Topic1\", \"Topic1\", \"Topic1\", \"Topic1\", \"Topic1\", \"Topic1\", \"Topic1\", \"Topic1\", \"Topic1\", \"Topic2\", \"Topic2\", \"Topic2\", \"Topic2\", \"Topic2\", \"Topic2\", \"Topic2\", \"Topic2\", \"Topic2\", \"Topic2\", \"Topic2\", \"Topic2\", \"Topic2\", \"Topic2\", \"Topic2\", \"Topic2\", \"Topic2\", \"Topic2\", \"Topic2\", \"Topic2\", \"Topic2\", \"Topic2\", \"Topic2\", \"Topic2\", \"Topic2\", \"Topic2\", \"Topic2\", \"Topic2\", \"Topic2\", \"Topic2\", \"Topic2\", \"Topic2\", \"Topic2\", \"Topic2\", \"Topic2\", \"Topic2\", \"Topic2\", \"Topic2\", \"Topic2\", \"Topic2\", \"Topic2\", \"Topic2\", \"Topic2\", \"Topic2\", \"Topic2\", \"Topic2\", \"Topic2\", \"Topic2\", \"Topic2\", \"Topic2\", \"Topic2\", \"Topic2\", \"Topic2\", \"Topic2\", \"Topic2\", \"Topic2\", \"Topic2\", \"Topic2\", \"Topic2\", \"Topic2\", \"Topic2\", \"Topic2\", \"Topic2\", \"Topic3\", \"Topic3\", \"Topic3\", \"Topic3\", \"Topic3\", \"Topic3\", \"Topic3\", \"Topic3\", \"Topic3\", \"Topic3\", \"Topic3\", \"Topic3\", \"Topic3\", \"Topic3\", \"Topic3\", \"Topic3\", \"Topic3\", \"Topic3\", \"Topic3\", \"Topic3\", \"Topic3\", \"Topic3\", \"Topic3\", \"Topic3\", \"Topic3\", \"Topic3\", \"Topic3\", \"Topic3\", \"Topic3\", \"Topic3\", \"Topic3\", \"Topic3\", \"Topic3\", \"Topic3\", \"Topic3\", \"Topic3\", \"Topic3\", \"Topic3\", \"Topic3\", \"Topic3\", \"Topic3\", \"Topic3\", \"Topic3\", \"Topic3\", \"Topic3\", \"Topic3\", \"Topic3\", \"Topic3\", \"Topic3\", \"Topic3\", \"Topic3\", \"Topic4\", \"Topic4\", \"Topic4\", \"Topic4\", \"Topic4\", \"Topic4\", \"Topic4\", \"Topic4\", \"Topic4\", \"Topic4\", \"Topic4\", \"Topic4\", \"Topic4\", \"Topic4\", \"Topic4\", \"Topic4\", \"Topic4\", \"Topic4\", \"Topic4\", \"Topic4\", \"Topic4\", \"Topic4\", \"Topic4\", \"Topic4\", \"Topic4\", \"Topic4\", \"Topic4\", \"Topic4\", \"Topic4\", \"Topic4\", \"Topic4\", \"Topic4\", \"Topic4\", \"Topic4\", \"Topic4\", \"Topic4\", \"Topic4\", \"Topic4\", \"Topic4\", \"Topic4\", \"Topic4\", \"Topic4\", \"Topic4\", \"Topic4\", \"Topic4\", \"Topic4\", \"Topic4\", \"Topic4\", \"Topic4\", \"Topic4\", \"Topic4\", \"Topic4\", \"Topic4\", \"Topic4\", \"Topic4\", \"Topic5\", \"Topic5\", \"Topic5\", \"Topic5\", \"Topic5\", \"Topic5\", \"Topic5\", \"Topic5\", \"Topic5\", \"Topic5\", \"Topic5\", \"Topic5\", \"Topic5\", \"Topic5\", \"Topic5\", \"Topic5\", \"Topic5\", \"Topic5\", \"Topic5\", \"Topic5\", \"Topic5\", \"Topic5\", \"Topic5\", \"Topic5\", \"Topic5\", \"Topic5\", \"Topic5\", \"Topic5\", \"Topic5\", \"Topic5\", \"Topic5\", \"Topic5\", \"Topic5\", \"Topic5\", \"Topic5\", \"Topic5\", \"Topic5\", \"Topic5\", \"Topic5\", \"Topic5\", \"Topic5\", \"Topic5\", \"Topic5\", \"Topic5\", \"Topic5\", \"Topic5\", \"Topic5\", \"Topic5\"], \"logprob\": [30.0, 29.0, 28.0, 27.0, 26.0, 25.0, 24.0, 23.0, 22.0, 21.0, 20.0, 19.0, 18.0, 17.0, 16.0, 15.0, 14.0, 13.0, 12.0, 11.0, 10.0, 9.0, 8.0, 7.0, 6.0, 5.0, 4.0, 3.0, 2.0, 1.0, -4.2883, -4.4541, -4.7695, -4.9019, -5.2324, -5.3357, -4.5554, -5.451, -5.5801, -5.5802, -5.5804, -5.5806, -5.5806, -4.7237, -5.7298, -5.7298, -5.7299, -5.7301, -5.7309, -5.9058, -5.9059, -5.9065, -5.9084, -4.5538, -5.1729, -5.4785, -5.5807, -4.2289, -5.3851, -4.9581, -4.1976, -4.6696, -3.6236, -4.5536, -4.1109, -4.234, -4.4639, -4.4332, -4.683, -4.3697, -5.231, -4.2941, -3.1889, -5.1555, -5.1582, -3.7829, -4.6029, -4.606, -4.778, -4.1121, -4.8102, -4.3792, -4.8789, -4.8229, -4.8288, -4.2126, -4.4618, -5.0144, -5.1002, -5.1961, -5.2964, -5.2968, -5.297, -5.4116, -5.4124, -5.5419, -5.5419, -5.542, -5.543, -5.6912, -5.6912, -5.6913, -5.6914, -5.6915, -5.6916, -5.6921, -5.6922, -3.4061, -5.8675, -5.8678, -5.8679, -5.8684, -5.8694, -5.8709, -5.1992, -4.0437, -3.7447, -4.4063, -5.3053, -5.4109, -3.0821, -3.3219, -4.6596, -3.9321, -5.1469, -5.0661, -4.1603, -5.1, -4.552, -4.5617, -3.8079, -4.6487, -4.4474, -4.382, -4.6331, -5.1578, -4.7679, -4.8713, -4.6203, -4.9877, -4.9639, -4.8628, -4.395, -4.714, -4.932, -4.9736, -5.0219, -5.011, -4.0666, -4.2477, -4.4207, -4.6893, -4.8949, -3.8978, -4.9733, -4.2988, -5.256, -4.4743, -5.3707, -5.3709, -5.5008, -5.5008, -5.5008, -5.5014, -4.6371, -5.651, -5.651, -5.652, -5.6532, -4.8273, -5.8267, -5.8271, -3.6136, -4.7871, -5.3828, -5.5008, -5.5044, -5.4164, -3.7497, -4.7314, -4.5296, -4.2561, -3.1874, -4.8212, -4.7051, -5.0864, -3.8597, -4.4023, -3.5648, -4.7504, -4.255, -5.0019, -4.3627, -4.8788, -4.8004, -4.6282, -4.0456, -4.2179, -4.3529, -3.3413, -4.8141, -5.0964, -5.0967, -5.2116, -5.491, -5.4911, -5.4912, -5.6669, -5.6675, -5.6677, -5.6677, -4.3142, -4.8535, -5.1658, -5.4909, -4.3214, -5.5132, -4.755, -5.5465, -5.6895, -5.3479, -5.7121, -5.3634, -5.4686, -4.0823, -5.9023, -5.2194, -5.511, -5.9171, -5.518, -3.9377, -3.7317, -4.0284, -5.2697, -3.1309, -4.9775, -3.6003, -4.4696, -4.3874, -4.8501, -4.9648, -3.958, -4.5567, -4.3828, -4.8653, -4.2698, -4.7991, -4.7748, -4.832, -4.8682, -4.704, -4.7753, -4.8487, -4.9648, -3.381, -4.5544, -4.6483, -4.7511, -4.8671, -4.9964, -5.146, -5.1467, -5.1481, -3.8111, -4.4693, -5.3216, -5.322, -5.3241, -4.0426, -4.0021, -4.295, -5.0271, -4.9211, -4.7587, -5.3206, -4.8691, -5.3225, -4.5111, -5.2065, -3.9238, -4.4026, -5.5388, -5.29, -5.5859, -4.8244, -4.9883, -4.4096, -4.3528, -3.4917, -4.5316, -3.8275, -4.5315, -4.0831, -4.229, -4.5391, -3.9656, -4.7173, -4.4207, -4.2215, -4.2468, -4.5911, -4.7777], \"loglift\": [30.0, 29.0, 28.0, 27.0, 26.0, 25.0, 24.0, 23.0, 22.0, 21.0, 20.0, 19.0, 18.0, 17.0, 16.0, 15.0, 14.0, 13.0, 12.0, 11.0, 10.0, 9.0, 8.0, 7.0, 6.0, 5.0, 4.0, 3.0, 2.0, 1.0, 1.4198, 1.4143, 1.401, 1.3937, 1.3731, 1.3651, 1.3572, 1.355, 1.3436, 1.3435, 1.3433, 1.3431, 1.3431, 1.3356, 1.3272, 1.3272, 1.3272, 1.327, 1.3262, 1.3051, 1.3051, 1.3045, 1.3026, 1.2682, 1.2642, 1.2222, 1.2221, 1.2173, 1.2165, 1.2101, 1.1929, 1.1965, 1.161, 1.1922, 1.1501, 1.1591, 1.105, 1.0714, 1.1009, 0.9966, 1.207, 0.9458, 0.5234, 1.1376, 1.1344, 0.1818, 0.6812, 0.6587, 0.7597, 0.0923, 0.7589, -0.2089, 0.6559, 0.2765, 0.1311, 1.4588, 1.4506, 1.4238, 1.418, 1.4091, 1.4039, 1.4036, 1.4034, 1.394, 1.3932, 1.3814, 1.3814, 1.3813, 1.3803, 1.3654, 1.3654, 1.3654, 1.3652, 1.3652, 1.3651, 1.3646, 1.3645, 1.3473, 1.3431, 1.3428, 1.3427, 1.3422, 1.3412, 1.3397, 1.3187, 1.2687, 1.2317, 1.2268, 1.2995, 1.2891, 0.8826, 0.8585, 1.1223, 0.8802, 1.212, 1.1615, 0.7996, 1.1309, 0.8954, 0.8292, 0.3624, 0.8543, 0.7261, 0.668, 0.7014, 1.1346, 0.6481, 0.6648, 0.2069, 0.7906, 0.7069, 0.4714, -0.6827, 0.0706, 0.4343, 0.3359, 0.5158, -0.2512, 1.4899, 1.4847, 1.4788, 1.468, 1.4567, 1.4544, 1.4524, 1.434, 1.4321, 1.4244, 1.4228, 1.4227, 1.4107, 1.4106, 1.4106, 1.41, 1.408, 1.394, 1.394, 1.3931, 1.3919, 1.3916, 1.3726, 1.3722, 1.3514, 1.3109, 1.3036, 1.2944, 1.2908, 1.2736, 1.2541, 1.2605, 1.24, 1.2071, 1.017, 1.2277, 1.1977, 1.2667, 0.9001, 1.0067, 0.7082, 1.1075, 0.8216, 1.1579, 0.7367, 1.0716, 1.0139, 0.706, -0.3333, -0.2532, -0.1724, 1.6695, 1.6205, 1.6004, 1.6001, 1.5905, 1.5623, 1.5621, 1.562, 1.5404, 1.5398, 1.5396, 1.5396, 1.465, 1.4387, 1.4364, 1.4295, 1.415, 1.4073, 1.4065, 1.3741, 1.36, 1.3498, 1.3419, 1.3344, 1.3316, 1.3077, 1.3034, 1.2927, 1.2921, 1.2911, 1.2851, 1.2273, 1.0955, 1.009, 1.246, 0.5814, 1.1332, 0.57, 0.9213, 0.786, 1.0161, 1.0889, 0.315, 0.708, 0.4617, 0.7358, -0.0894, 0.6169, 0.5598, 0.4775, 0.5407, 0.1083, 0.1846, 0.2279, 0.2173, 1.9832, 1.937, 1.9303, 1.923, 1.9126, 1.9013, 1.8856, 1.885, 1.8836, 1.87, 1.8698, 1.8646, 1.8643, 1.8622, 1.8453, 1.8409, 1.7947, 1.756, 1.7552, 1.7378, 1.7152, 1.7149, 1.7134, 1.6977, 1.6939, 1.6907, 1.6882, 1.6503, 1.6135, 1.6062, 1.5952, 1.5967, 1.5269, 1.4954, 1.3527, 1.5101, 1.21, 1.4073, 1.0991, 1.1741, 1.3543, 0.3075, 1.2285, 0.6559, -0.0171, -0.0765, 0.5083, 0.844]}, \"token.table\": {\"Topic\": [5, 3, 5, 2, 2, 3, 3, 2, 5, 1, 2, 4, 5, 1, 2, 4, 1, 4, 1, 2, 3, 5, 1, 2, 4, 1, 2, 3, 4, 2, 1, 2, 1, 2, 4, 1, 1, 2, 4, 2, 3, 5, 1, 3, 3, 4, 5, 1, 2, 3, 3, 1, 3, 4, 4, 3, 1, 1, 1, 4, 2, 3, 4, 3, 5, 2, 5, 2, 4, 5, 3, 2, 1, 3, 2, 1, 2, 4, 5, 3, 5, 1, 2, 3, 1, 2, 1, 2, 4, 2, 4, 5, 2, 1, 4, 5, 1, 3, 5, 5, 2, 3, 5, 1, 5, 2, 5, 4, 1, 1, 3, 5, 2, 4, 2, 4, 5, 1, 4, 5, 1, 3, 2, 4, 1, 4, 5, 5, 3, 4, 4, 5, 2, 4, 5, 1, 2, 2, 4, 5, 3, 4, 2, 1, 4, 5, 2, 3, 4, 2, 4, 5, 1, 5, 2, 4, 2, 5, 3, 4, 5, 1, 2, 4, 1, 2, 2, 1, 2, 5, 2, 1, 1, 3, 5, 2, 2, 4, 1, 3, 4, 4, 5, 2, 3, 4, 1, 4, 3, 1, 2, 3, 4, 5, 2, 3, 5, 3, 4, 5, 2, 1, 3, 3, 4, 1, 3, 5, 4, 4, 5, 4, 1, 3, 4, 5, 3, 4, 5, 1, 2, 3, 1, 3, 5, 3, 4, 1, 2, 3, 4, 5, 1, 5, 2, 3, 5, 3, 4, 1, 1, 5, 1, 4, 3, 1, 3, 5, 4, 2, 3, 4, 5, 2, 4, 2, 3, 5, 2, 3, 1, 2, 3, 4, 1, 2, 3, 2, 4, 1, 4, 1, 4, 5, 3, 1, 2, 4, 5, 1, 4, 2, 1, 2, 3, 4, 1, 4, 1, 2, 3, 4, 5, 1, 4, 5, 2, 1, 1, 2, 3, 5, 1, 4, 1, 2, 3, 4, 2, 2, 2, 3, 2, 3, 1, 3, 4, 5, 1, 4, 3, 2, 3, 4, 2, 3, 1, 3, 3, 4, 5, 2, 3, 3, 1, 2, 1, 5, 2, 3, 4, 4, 2, 1, 2, 4, 1, 2, 4, 5, 2, 1, 3, 4, 5, 2, 5, 2, 4, 1, 2, 4, 1, 5, 5, 1, 2, 4, 5, 1, 3, 5, 1, 3, 4, 5, 2, 5, 4, 1, 1, 5, 1, 3, 5, 2, 4, 5, 1, 3, 5, 1, 2, 4, 5, 1, 4, 5, 3, 2, 3, 3, 5, 1, 2, 3, 4, 5, 5, 3, 5, 4, 2, 4, 2, 4, 3, 1, 4, 3, 3, 4, 5, 2, 5, 2, 1, 5, 2, 3, 5, 3, 1, 4, 2, 3, 2, 3, 4, 1, 2, 4, 1, 2, 3, 5, 1, 3, 1, 2, 2, 3, 5, 4, 5, 2, 1, 4, 2], \"Freq\": [0.9299001911631765, 0.9093508082553966, 0.9878688844785155, 0.9200117166365606, 0.22389061378859454, 0.7276444948129323, 0.928214524845757, 0.7631162184538062, 0.22893486553614184, 0.5981974896067327, 0.17447426780196368, 0.12462447700140264, 0.07477468620084159, 0.11661339539155928, 0.4664535815662371, 0.39648554433130156, 0.13382552513493562, 0.6691276256746781, 0.2685627366795425, 0.6714068416988562, 0.17502922460781395, 0.7001168984312558, 0.26372505637439325, 0.5086126087220442, 0.2260500483209085, 0.39492537676210204, 0.11360867002745402, 0.15688816337124603, 0.33000613674641405, 0.9592589185155963, 0.7429674782272658, 0.2371172802852976, 0.45990685260642433, 0.15330228420214145, 0.3832557105053536, 0.9396770993855313, 0.16496698695446047, 0.2804438778225828, 0.5608877556451656, 0.8733474529249282, 0.10725319597323679, 0.015321885139033828, 0.7964422747786162, 0.1837943711027576, 0.5080509441345064, 0.23285668272831542, 0.2540254720672532, 0.27852680948602765, 0.5431272784977539, 0.1671160856916166, 0.9546189150832937, 0.9312616472738344, 0.6878845404027678, 0.25013983287373376, 0.9509625184536638, 0.9093444415499102, 0.9553925454136166, 0.9481770996982023, 0.9812981211054645, 0.9168458287775262, 0.4458299443949969, 0.20805397405099857, 0.35666395551599755, 0.11623665054802894, 0.8911476542015552, 0.15015646216840964, 0.7507823108420482, 0.7755452588960073, 0.11079217984228676, 0.11079217984228676, 0.9282051361350314, 0.8942557233990287, 0.2418096598724282, 0.7254289796172846, 0.8942611440546949, 0.9203460543798118, 0.4167989575028496, 0.595427082146928, 0.9506156184617823, 0.9788055181107862, 0.8726869943502503, 0.9396766615235531, 0.3550300838319124, 0.6593415842592659, 0.9396846818762075, 0.8949270528863486, 0.4850103345364363, 0.3117923579162805, 0.17321797662015584, 0.33744777091711453, 0.5624129515285242, 0.11248259030570484, 0.9199929263244494, 0.07250106935160457, 0.18125267337901144, 0.7250106935160457, 0.920355740051243, 0.2096436738819156, 0.7337528585867046, 0.9583771913818533, 0.19134963398210944, 0.09567481699105472, 0.669723718937383, 0.17513883097950905, 0.7881247394077907, 0.07481701817791506, 0.8978042181349807, 0.916851620194181, 0.9203511081128101, 0.7382244915370609, 0.1018240677982153, 0.12728008474776914, 0.1529235071994931, 0.7646175359974656, 0.040711816095469866, 0.5088977011933733, 0.4478299770501685, 0.7925952387242607, 0.13986974801016366, 0.04662324933672122, 0.9396814811697601, 0.9282051722118223, 0.8586808506285998, 0.10733510632857497, 0.7144854405364738, 0.14289708810729473, 0.07144854405364737, 0.8727888737609077, 0.17096602252135237, 0.8120886069764238, 0.19702722979940085, 0.7224331759311364, 0.9393153962722558, 0.13666871115087412, 0.8655685039555361, 0.9049597113614709, 0.05655998196009193, 0.5217504111968161, 0.46377814328605876, 0.9412576563342391, 0.9789856632251225, 0.8912725039889712, 0.9199876268190978, 0.8945764984510205, 0.2631020019540234, 0.6577550048850584, 0.7659672209394892, 0.1340442636644106, 0.09574590261743615, 0.2896074779826865, 0.6950579471584475, 0.9155770462980793, 0.15018108788770265, 0.7509054394385133, 0.23797680088474776, 0.7139304026542433, 0.175570104857439, 0.702280419429756, 0.1373786681066819, 0.2747573362133638, 0.5953075617956215, 0.5035450161616067, 0.36926634518517826, 0.10070900323232135, 0.7853696960662434, 0.20667623580690617, 0.9393175118963781, 0.3987268433006415, 0.5520833214931959, 0.030671295638510888, 0.9766150726270356, 0.9547433755498861, 0.756804491357468, 0.189201122839367, 0.8972516333348807, 0.9663703615786893, 0.19465253329414708, 0.7786101331765883, 0.8946346283156626, 0.7587451007320496, 0.15174902014640992, 0.7612039933035952, 0.15224079866071905, 0.8942953818458533, 0.17796056048712047, 0.7118422419484819, 0.23799723694949004, 0.7139917108484701, 0.8841898148386458, 0.18815663673271293, 0.3249978270837769, 0.03421029758776599, 0.3249978270837769, 0.12828861595412244, 0.042333230426311846, 0.7619981476736132, 0.16933292170524739, 0.590270840979859, 0.3246489625389225, 0.05902708409798591, 0.8942438099589142, 0.11804787641643934, 0.8263351349150754, 0.8841828667737651, 0.8912927935674526, 0.11673617358924382, 0.11673617358924382, 0.7004170415354629, 0.9910493334048172, 0.7517000400810511, 0.18792501002026277, 0.9168488597247126, 0.05868427977292743, 0.2640792589781734, 0.23473711909170972, 0.4401320982969557, 0.16187536154173665, 0.6243763945181271, 0.18500041319055618, 0.19172298367073023, 0.3560569696742133, 0.4382239626759548, 0.0757314075248128, 0.8519783346541441, 0.0757314075248128, 0.23727805753537456, 0.7118341726061237, 0.09252213384387994, 0.16962391204711325, 0.539712447422633, 0.12336284512517327, 0.07710177820323329, 0.8326663898101087, 0.1189523414014441, 0.8942560970514498, 0.9481341889483227, 0.055772599349901336, 0.9384622553073084, 0.04080270675249167, 0.9203743944331633, 0.3334219186595988, 0.6112735175425977, 0.7433465100197976, 0.16518811333773278, 0.9093902612607504, 0.9396884432019501, 0.8229987216035861, 0.17635686891505417, 0.9629126001054135, 0.09581959886377364, 0.2874587965913209, 0.09581959886377364, 0.527007793750755, 0.919991657549467, 0.8912855283352211, 0.0934773323813471, 0.7478186590507768, 0.15579555396891184, 0.9663632079409415, 0.9428785576906611, 0.22673946235560072, 0.43286624631523773, 0.1442887487717459, 0.1649014271677096, 0.6820352406458486, 0.0974336058065498, 0.22734508021528288, 0.7806847464793074, 0.09758559330991343, 0.13380805993639835, 0.8028483596183901, 0.8789600473618335, 0.7780893867593325, 0.20476036493666644, 0.9640092812486036, 0.19454102486445313, 0.5187760663052083, 0.12969401657630208, 0.12969401657630208, 0.6926527558743425, 0.27706110234973697, 0.9199858493959855, 0.435135995824072, 0.16735999839387383, 0.20083199807264862, 0.16735999839387383, 0.46624452049478904, 0.5128689725442679, 0.13360312521414106, 0.32064750051393853, 0.16032375025696927, 0.29392687547111035, 0.08016187512848463, 0.1846203542084742, 0.3021060341593214, 0.5202937254966091, 0.9199900482665001, 0.8945931959473516, 0.7552742647074634, 0.23239208144845028, 0.8470960835229212, 0.10588701044036515, 0.9279762910797072, 0.04884085742524775, 0.11231475401082078, 0.5356549806669914, 0.1814315257097874, 0.17279192924741657, 0.9663854311090516, 0.9393536924771471, 0.10626715332509235, 0.7438700732756465, 0.11804536813469577, 0.8263175769428703, 0.11373590919117424, 0.4454656443320991, 0.25590579568014205, 0.1800818562193592, 0.21417669426826483, 0.7496184299389269, 0.9577279840581422, 0.09841239218633419, 0.7676166590534067, 0.13777734906086786, 0.06634274020724755, 0.8624556226942182, 0.7141841236656796, 0.2142552370997039, 0.6473386159014386, 0.3236693079507193, 0.8727185313351069, 0.803932986604239, 0.1875843635409891, 0.9357031978063615, 0.6222337236394343, 0.3394002128942369, 0.8475669295330662, 0.13382635729469466, 0.8942575886776548, 0.2668441173798402, 0.7115843130129073, 0.9628977586276504, 0.9393193441423658, 0.42918960395167205, 0.17882900164653, 0.39342380362236606, 0.21126841843862862, 0.5362967544980572, 0.21126841843862862, 0.0487542504089143, 0.95433669085609, 0.920368451151973, 0.30081682003398014, 0.15040841001699007, 0.5514975033956302, 0.14293404227776366, 0.8576042536665819, 0.8051660124951966, 0.08946289027724406, 0.1070913682907271, 0.1070913682907271, 0.7496395780350897, 0.19115579135665578, 0.7646231654266231, 0.8972231269222097, 0.05479491558413791, 0.46575678246517227, 0.3287694935048275, 0.16438474675241374, 0.2566283339140688, 0.610598449657612, 0.1327387934038287, 0.1460513415353993, 0.36512835383849823, 0.18256417691924912, 0.3286155184546484, 0.1749066079035468, 0.8162308368832185, 0.8912960959297932, 0.9667698890620636, 0.7782324218992981, 0.19455810547482452, 0.30321695359520123, 0.4548254303928019, 0.2165835382822866, 0.7140589930420073, 0.21421769791260217, 0.07140589930420073, 0.8945935522032867, 0.9150823172216697, 0.04816222722219314, 0.3016448619880385, 0.43570924509383346, 0.20109657465869235, 0.03351609577644873, 0.7823139722044378, 0.14487295781563664, 0.08692377468938198, 0.9090525443963765, 0.5124059394700499, 0.4697054445142124, 0.7930391444415484, 0.21147710518441293, 0.11762882230866557, 0.07057729338519934, 0.18820611569386492, 0.23525764461733115, 0.39993799584946294, 0.8972923755397598, 0.8921838201546063, 0.05576148875966289, 0.9053978575935698, 0.2678142548879432, 0.6248999280718673, 0.13379098415772908, 0.8027459049463744, 0.9094401871994201, 0.6870741611352151, 0.25765281042570565, 0.9428817258118114, 0.6197596905087637, 0.30987984525438184, 0.0885370986441091, 0.5049142455418292, 0.45442282098764625, 0.920012333753896, 0.32432553068149994, 0.6486510613629999, 0.9199906766232007, 0.35013443397094174, 0.6002304582359, 0.9282098599184029, 0.1427834737419658, 0.7853091055808118, 0.7361833475224937, 0.26770303546272495, 0.6856703491416034, 0.17141758728540085, 0.08570879364270043, 0.34515960018713704, 0.46021280024951605, 0.19175533343729836, 0.46889973427502896, 0.18234989666251125, 0.2604998523750161, 0.10419994095000643, 0.8252493674576845, 0.08252493674576845, 0.7518931166261993, 0.10741330237517134, 0.954345948283848, 0.1311537243504302, 0.7869223461025813, 0.11662952508987214, 0.816406675629105, 0.9087405909290897, 0.17841214488252252, 0.7136485795300901, 0.8786240104128098], \"Term\": [\"ajusta\", \"ajustar\", \"amazon\", \"apenas\", \"art\\u00edculo\", \"art\\u00edculo\", \"asi\", \"aspecto\", \"aspecto\", \"as\\u00ed\", \"as\\u00ed\", \"as\\u00ed\", \"as\\u00ed\", \"aunque\", \"aunque\", \"aunque\", \"ayuda\", \"ayuda\", \"a\\u00fan\", \"a\\u00fan\", \"baratos\", \"baratos\", \"bastante\", \"bastante\", \"bastante\", \"bien\", \"bien\", \"bien\", \"bien\", \"bonita\", \"bonito\", \"bonito\", \"bonitos\", \"bonitos\", \"bonitos\", \"brillo\", \"buen\", \"buen\", \"buen\", \"buena\", \"buena\", \"buena\", \"cadena\", \"cadena\", \"caja\", \"caja\", \"caja\", \"calidad\", \"calidad\", \"calidad\", \"cambiar\", \"casi\", \"caso\", \"caso\", \"castellano\", \"cerrar\", \"colgante\", \"collar\", \"color\", \"completo\", \"compra\", \"compra\", \"compra\", \"comprar\", \"comprar\", \"compras\", \"compras\", \"compr\\u00e9\", \"compr\\u00e9\", \"compr\\u00e9\", \"condiciones\", \"conjunto\", \"consola\", \"consola\", \"consolas\", \"corta\", \"cosa\", \"cosa\", \"cosas\", \"cumple\", \"c\\u00f3digo\", \"c\\u00f3modos\", \"decir\", \"decir\", \"dedo\", \"deja\", \"demasiado\", \"demasiado\", \"demasiado\", \"dem\\u00e1s\", \"dem\\u00e1s\", \"dem\\u00e1s\", \"desear\", \"despu\\u00e9s\", \"despu\\u00e9s\", \"despu\\u00e9s\", \"detalle\", \"devoluci\\u00f3n\", \"devoluci\\u00f3n\", \"devolver\", \"devuelto\", \"devuelto\", \"devuelto\", \"dice\", \"dice\", \"dinero\", \"dinero\", \"divertido\", \"dorado\", \"dos\", \"dos\", \"dos\", \"doy\", \"doy\", \"d\\u00eda\", \"d\\u00eda\", \"d\\u00eda\", \"d\\u00edas\", \"d\\u00edas\", \"d\\u00edas\", \"elegantes\", \"encajan\", \"encantada\", \"encantada\", \"encantado\", \"encantado\", \"encantado\", \"entra\", \"entrega\", \"entrega\", \"entregado\", \"entregado\", \"entretenido\", \"env\\u00edo\", \"env\\u00edo\", \"espa\\u00f1ol\", \"espa\\u00f1ol\", \"esperaba\", \"esperaba\", \"esperando\", \"expectativas\", \"familia\", \"fan\", \"fea\", \"fecha\", \"fecha\", \"foto\", \"foto\", \"foto\", \"funciona\", \"funciona\", \"funcionar\", \"funci\\u00f3n\", \"funci\\u00f3n\", \"genial\", \"genial\", \"gente\", \"gente\", \"gracias\", \"gracias\", \"gracias\", \"grande\", \"grande\", \"grande\", \"grandes\", \"grandes\", \"gr\\u00e1ficos\", \"gustado\", \"gustado\", \"gustado\", \"gusto\", \"hija\", \"hijo\", \"hijo\", \"hola\", \"horas\", \"hoy\", \"hoy\", \"igualmente\", \"imagen\", \"imagen\", \"imposible\", \"imposible\", \"interesante\", \"ir\", \"ir\", \"italiano\", \"italiano\", \"juegazo\", \"juego\", \"juego\", \"juego\", \"juego\", \"juego\", \"juegos\", \"juegos\", \"juegos\", \"jugar\", \"jugar\", \"jugar\", \"junto\", \"lado\", \"lado\", \"lamentable\", \"largo\", \"llega\", \"llega\", \"llega\", \"llegado\", \"llegar\", \"llegar\", \"llegaron\", \"llego\", \"llego\", \"llego\", \"llego\", \"lleg\\u00f3\", \"lleg\\u00f3\", \"lleg\\u00f3\", \"mal\", \"mal\", \"mal\", \"mando\", \"mando\", \"mando\", \"marca\", \"marca\", \"mas\", \"mas\", \"mas\", \"mas\", \"mas\", \"materiales\", \"materiales\", \"media\", \"mejor\", \"mejor\", \"menos\", \"menos\", \"merece\", \"meses\", \"meses\", \"mujer\", \"mujer\", \"m\\u00f3viles\", \"negro\", \"nintendo\", \"nintendo\", \"normal\", \"nunca\", \"nunca\", \"nunca\", \"nunca\", \"one\", \"opinar\", \"original\", \"original\", \"original\", \"pandora\", \"pantalla\", \"parece\", \"parece\", \"parece\", \"parece\", \"parte\", \"parte\", \"parte\", \"pasa\", \"pasa\", \"pasado\", \"pasado\", \"pc\", \"pedido\", \"pedido\", \"pedir\", \"pena\", \"pena\", \"pena\", \"pena\", \"pendientes\", \"pendientes\", \"peor\", \"peque\\u00f1o\", \"peque\\u00f1o\", \"peque\\u00f1o\", \"peque\\u00f1o\", \"peque\\u00f1os\", \"peque\\u00f1os\", \"perfectamente\", \"perfectamente\", \"perfectamente\", \"perfectamente\", \"perfectamente\", \"perfecto\", \"perfecto\", \"perfecto\", \"piedras\", \"piel\", \"plata\", \"plata\", \"poder\", \"poder\", \"pone\", \"pone\", \"precio\", \"precio\", \"precio\", \"precio\", \"preciosa\", \"precioso\", \"principio\", \"principio\", \"pro\", \"pro\", \"producto\", \"producto\", \"producto\", \"producto\", \"pronto\", \"pronto\", \"ps\", \"puede\", \"puede\", \"puede\", \"pueden\", \"pueden\", \"puedes\", \"puedes\", \"puedo\", \"puedo\", \"puesta\", \"pulsera\", \"pulsera\", \"q\", \"queda\", \"queda\", \"quedan\", \"quedan\", \"quiz\\u00e1\", \"rapido\", \"rapido\", \"rat\\u00f3n\", \"realidad\", \"recomiendo\", \"recomiendo\", \"recomiendo\", \"regalo\", \"regalo\", \"regalo\", \"regalo\", \"relaci\\u00f3n\", \"rosa\", \"roto\", \"roto\", \"roto\", \"r\\u00e1pido\", \"r\\u00e1pido\", \"saga\", \"saga\", \"seguro\", \"seguro\", \"seguro\", \"semana\", \"semana\", \"semanas\", \"ser\", \"ser\", \"ser\", \"ser\", \"si\", \"si\", \"si\", \"sido\", \"sido\", \"sido\", \"sido\", \"siempre\", \"siempre\", \"simplemente\", \"sirve\", \"sitio\", \"sitio\", \"solo\", \"solo\", \"solo\", \"sonido\", \"sonido\", \"sonido\", \"super\", \"switch\", \"switch\", \"tal\", \"tal\", \"tal\", \"tal\", \"tama\\u00f1o\", \"tama\\u00f1o\", \"tama\\u00f1o\", \"tampoco\", \"tan\", \"tan\", \"tener\", \"tener\", \"tiempo\", \"tiempo\", \"tiempo\", \"tiempo\", \"tiempo\", \"tipo\", \"todas\", \"todas\", \"todav\\u00eda\", \"totalmente\", \"totalmente\", \"transporte\", \"transporte\", \"usar\", \"uso\", \"uso\", \"utilizar\", \"va\", \"va\", \"va\", \"vale\", \"vale\", \"valen\", \"veces\", \"veces\", \"ven\", \"vendedor\", \"vendedor\", \"venia\", \"ven\\u00eda\", \"ven\\u00eda\", \"ver\", \"ver\", \"verdad\", \"verdad\", \"verdad\", \"vez\", \"vez\", \"vez\", \"viene\", \"viene\", \"viene\", \"viene\", \"vienen\", \"vienen\", \"vino\", \"vino\", \"visto\", \"volver\\u00eda\", \"volver\\u00eda\", \"voy\", \"voy\", \"xbox\", \"\\u00fanica\", \"\\u00fanica\", \"\\u00fanico\"]}, \"R\": 30, \"lambda.step\": 0.01, \"plot.opts\": {\"xlab\": \"PC1\", \"ylab\": \"PC2\"}, \"topic.order\": [5, 1, 2, 4, 3]};\n",
       "\n",
       "function LDAvis_load_lib(url, callback){\n",
       "  var s = document.createElement('script');\n",
       "  s.src = url;\n",
       "  s.async = true;\n",
       "  s.onreadystatechange = s.onload = callback;\n",
       "  s.onerror = function(){console.warn(\"failed to load library \" + url);};\n",
       "  document.getElementsByTagName(\"head\")[0].appendChild(s);\n",
       "}\n",
       "\n",
       "if(typeof(LDAvis) !== \"undefined\"){\n",
       "   // already loaded: just create the visualization\n",
       "   !function(LDAvis){\n",
       "       new LDAvis(\"#\" + \"ldavis_el1508812933563656326161342468\", ldavis_el1508812933563656326161342468_data);\n",
       "   }(LDAvis);\n",
       "}else if(typeof define === \"function\" && define.amd){\n",
       "   // require.js is available: use it to load d3/LDAvis\n",
       "   require.config({paths: {d3: \"https://d3js.org/d3.v5\"}});\n",
       "   require([\"d3\"], function(d3){\n",
       "      window.d3 = d3;\n",
       "      LDAvis_load_lib(\"https://cdn.jsdelivr.net/gh/bmabey/pyLDAvis@3.3.1/pyLDAvis/js/ldavis.v3.0.0.js\", function(){\n",
       "        new LDAvis(\"#\" + \"ldavis_el1508812933563656326161342468\", ldavis_el1508812933563656326161342468_data);\n",
       "      });\n",
       "    });\n",
       "}else{\n",
       "    // require.js not available: dynamically load d3 & LDAvis\n",
       "    LDAvis_load_lib(\"https://d3js.org/d3.v5.js\", function(){\n",
       "         LDAvis_load_lib(\"https://cdn.jsdelivr.net/gh/bmabey/pyLDAvis@3.3.1/pyLDAvis/js/ldavis.v3.0.0.js\", function(){\n",
       "                 new LDAvis(\"#\" + \"ldavis_el1508812933563656326161342468\", ldavis_el1508812933563656326161342468_data);\n",
       "            })\n",
       "         });\n",
       "}\n",
       "</script>"
      ],
      "text/plain": [
       "<IPython.core.display.HTML object>"
      ]
     },
     "execution_count": 26,
     "metadata": {},
     "output_type": "execute_result"
    }
   ],
   "source": [
    "lda_display = pyLDAvis.gensim_models.prepare(model, corpus, dictionary, sort_topics=True)\n",
    "pyLDAvis.display(lda_display)"
   ]
  },
  {
   "cell_type": "markdown",
   "metadata": {},
   "source": [
    "[3 pts] Preguntas\n",
    "¿Qué conclusiones puede sacar de los resultados de los últimos tres talleres, usando diferentes modelos pero los mismos datos?"
   ]
  },
  {
   "cell_type": "markdown",
   "metadata": {},
   "source": [
    "La diferencia entre los tres últimos taller es que en el primero existía etiqueta en la variable dependiente, es decir, se tenían definidas dos clases, en los dos últimos talleres con k-means y LDA se definió que lo mejor era separar en 5 clases. En los dos últimos talleres se evidencia una diferencia entre las palabras más importantes en cada grupo."
   ]
  }
 ],
 "metadata": {
  "kernelspec": {
   "display_name": "Python 3",
   "language": "python",
   "name": "python3"
  },
  "language_info": {
   "codemirror_mode": {
    "name": "ipython",
    "version": 3
   },
   "file_extension": ".py",
   "mimetype": "text/x-python",
   "name": "python",
   "nbconvert_exporter": "python",
   "pygments_lexer": "ipython3",
   "version": "3.8.3"
  }
 },
 "nbformat": 4,
 "nbformat_minor": 4
}
